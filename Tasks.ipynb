{
 "cells": [
  {
   "cell_type": "markdown",
   "metadata": {},
   "source": [
    "# Task 01\n",
    "Set up a Django REST Framework project from scratch and create your first API endpoint.\n",
    "\n",
    "1. Install Django and Django REST Framework\n",
    "2. Create a new Django project and app\n",
    "3. Configure DRF in settings.py\n",
    "4. Create a simple model (e.g., Book with title, author, published_date)\n",
    "5. Implement a basic ModelSerializer\n",
    "6. Create a function-based view that returns all books\n",
    "7. Configure URLs and test the endpoint using the browsable API"
   ]
  },
  {
   "cell_type": "markdown",
   "metadata": {},
   "source": [
    "# Task 02\n",
    "2. Advanced Serialization (1.5 hours)\n",
    "   - Create a related model (e.g., Author with name, bio, date_of_birth)\n",
    "   - Establish a ForeignKey relationship from Book to Author\n",
    "   - Implement nested serialization with different depth levels\n",
    "   - Create a custom serializer method field that returns computed data\n",
    "   - Implement serializer validation with validate_field() and validate() methods\n",
    "\n"
   ]
  },
  {
   "cell_type": "markdown",
   "metadata": {},
   "source": [
    "# Task 03\n",
    "3. Serializer Relationships (1 hour)\n",
    "   - Implement HyperlinkedModelSerializer for navigable APIs\n",
    "   - Add StringRelatedField and PrimaryKeyRelatedField examples\n",
    "   - Create a custom relational field\n",
    "   - Handle many-to-many relationships (add a Genre model related to Book)"
   ]
  },
  {
   "cell_type": "markdown",
   "metadata": {},
   "source": [
    "# Test 04\n",
    "4. Testing (30 minutes)\n",
    "   - Write basic tests for your serializers and views\n",
    "   - Test serialization and deserialization\n",
    "   - Test validation logic"
   ]
  },
  {
   "cell_type": "markdown",
   "metadata": {},
   "source": [
    "# Day 03\n",
    "Day 3: Advanced Filtering, Pagination, and ViewSets\n",
    "\n",
    "Task: Implement advanced filtering, custom pagination, and ViewSets with dynamic serializers based on actions.\n",
    "\n",
    "1. ViewSets and Routers (45 minutes)\n",
    "   - Refactor your views to use ViewSets (ModelViewSet)\n",
    "   - Implement custom actions with @action decorator\n",
    "   - Create a detail action that returns book statistics\n",
    "   - Create a list action that returns featured books\n",
    "   - Configure DefaultRouter and register your ViewSets\n",
    "\n",
    "2. Advanced Filtering and Search (1 hour)\n",
    "   - Implement DjangoFilterBackend with custom FilterSet\n",
    "   - Add SearchFilter with custom search fields\n",
    "   - Create OrderingFilter with custom ordering fields\n",
    "   - Implement a custom filter backend for complex filtering logic\n",
    "   - Add date range filtering for published_date\n",
    "\n",
    "3. Custom Pagination (45 minutes)\n",
    "   - Implement LimitOffsetPagination\n",
    "   - Create PageNumberPagination with custom page size\n",
    "   - Develop a cursor-based pagination for time-based data\n",
    "   - Implement a custom pagination class that includes metadata\n",
    "   - Make pagination configurable via query parameters\n",
    "\n",
    "4. Dynamic Serializers and Conditional Logic (1 hour)\n",
    "   - Create different serializers for list and detail views\n",
    "   - Implement get_serializer_class() method to switch serializers based on action\n",
    "   - Add conditional fields based on user permissions\n",
    "   - Create a serializer that handles different input/output representations\n",
    "   - Implement a serializer that adapts based on query parameters\n",
    "\n",
    "5. Performance Optimization (30 minutes)\n",
    "   - Use select_related() and prefetch_related() to optimize queries\n",
    "   - Implement queryset optimization in get_queryset()\n",
    "   - Add conditional prefetching based on requested fields\n",
    "   - Measure and compare performance before and after optimization\n",
    "Bonus Challenge: Create a custom filter that allows searching for books published between two dates, with fuzzy author name matching, and sorted by a relevance score you define."
   ]
  },
  {
   "cell_type": "markdown",
   "metadata": {},
   "source": []
  }
 ],
 "metadata": {
  "language_info": {
   "name": "python"
  }
 },
 "nbformat": 4,
 "nbformat_minor": 2
}
