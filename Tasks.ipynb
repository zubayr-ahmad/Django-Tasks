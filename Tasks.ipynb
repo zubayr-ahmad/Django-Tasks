{
 "cells": [
  {
   "cell_type": "markdown",
   "metadata": {},
   "source": [
    "# Task 01\n",
    "Set up a Django REST Framework project from scratch and create your first API endpoint.\n",
    "\n",
    "1. Install Django and Django REST Framework\n",
    "2. Create a new Django project and app\n",
    "3. Configure DRF in settings.py\n",
    "4. Create a simple model (e.g., Book with title, author, published_date)\n",
    "5. Implement a basic ModelSerializer\n",
    "6. Create a function-based view that returns all books\n",
    "7. Configure URLs and test the endpoint using the browsable API"
   ]
  },
  {
   "cell_type": "markdown",
   "metadata": {},
   "source": [
    "# Task 02\n",
    "2. Advanced Serialization (1.5 hours)\n",
    "   - Create a related model (e.g., Author with name, bio, date_of_birth)\n",
    "   - Establish a ForeignKey relationship from Book to Author\n",
    "   - Implement nested serialization with different depth levels\n",
    "   - Create a custom serializer method field that returns computed data\n",
    "   - Implement serializer validation with validate_field() and validate() methods\n",
    "\n"
   ]
  },
  {
   "cell_type": "markdown",
   "metadata": {},
   "source": [
    "# Task 03\n",
    "3. Serializer Relationships (1 hour)\n",
    "   - Implement HyperlinkedModelSerializer for navigable APIs\n",
    "   - Add StringRelatedField and PrimaryKeyRelatedField examples\n",
    "   - Create a custom relational field\n",
    "   - Handle many-to-many relationships (add a Genre model related to Book)"
   ]
  },
  {
   "cell_type": "markdown",
   "metadata": {},
   "source": [
    "# Test 04\n",
    "4. Testing (30 minutes)\n",
    "   - Write basic tests for your serializers and views\n",
    "   - Test serialization and deserialization\n",
    "   - Test validation logic"
   ]
  },
  {
   "cell_type": "markdown",
   "metadata": {},
   "source": [
    "# Day 03\n",
    "Day 3: Advanced Filtering, Pagination, and ViewSets\n",
    "\n",
    "Task: Implement advanced filtering, custom pagination, and ViewSets with dynamic serializers based on actions.\n",
    "\n",
    "1. ViewSets and Routers (45 minutes)\n",
    "   - Refactor your views to use ViewSets (ModelViewSet)\n",
    "   - Implement custom actions with @action decorator\n",
    "   - Create a detail action that returns book statistics\n",
    "   - Create a list action that returns featured books\n",
    "   - Configure DefaultRouter and register your ViewSets\n",
    "\n",
    "2. Advanced Filtering and Search (1 hour)\n",
    "   - Implement DjangoFilterBackend with custom FilterSet\n",
    "   - Add SearchFilter with custom search fields\n",
    "   - Create OrderingFilter with custom ordering fields\n",
    "   - Implement a custom filter backend for complex filtering logic\n",
    "   - Add date range filtering for published_date\n",
    "\n",
    "3. Custom Pagination (45 minutes)\n",
    "   - Implement LimitOffsetPagination\n",
    "   - Create PageNumberPagination with custom page size\n",
    "   - Develop a cursor-based pagination for time-based data\n",
    "   - Implement a custom pagination class that includes metadata\n",
    "   - Make pagination configurable via query parameters\n",
    "\n",
    "4. Dynamic Serializers and Conditional Logic (1 hour)\n",
    "   - Create different serializers for list and detail views\n",
    "   - Implement get_serializer_class() method to switch serializers based on action\n",
    "   - Add conditional fields based on user permissions\n",
    "   - Create a serializer that handles different input/output representations\n",
    "   - Implement a serializer that adapts based on query parameters\n",
    "\n",
    "5. Performance Optimization (30 minutes)\n",
    "   - Use select_related() and prefetch_related() to optimize queries\n",
    "   - Implement queryset optimization in get_queryset()\n",
    "   - Add conditional prefetching based on requested fields\n",
    "   - Measure and compare performance before and after optimization\n",
    "Bonus Challenge: Create a custom filter that allows searching for books published between two dates, with fuzzy author name matching, and sorted by a relevance score you define."
   ]
  },
  {
   "cell_type": "markdown",
   "metadata": {},
   "source": [
    "# Day 4: Authentication and Permissions in DRF\n",
    "\n",
    "Task: Implement comprehensive authentication and permission systems for your API.\n",
    "\n",
    "1. Token Authentication (1 hour)\n",
    "   - Set up Django's built-in token authentication\n",
    "   - Add TokenAuthentication to your DEFAULT_AUTHENTICATION_CLASSES\n",
    "   - Create endpoints for token generation and validation\n",
    "   - Implement token expiration and refresh mechanisms\n",
    "   - Add proper authentication headers in your test client\n",
    "\n",
    "2. JWT Authentication (45 minutes)\n",
    "   - Implement JWT authentication using a third-party package\n",
    "   - Configure JWT settings with expiration, refresh, and blacklisting\n",
    "   - Create custom JWT payload with additional user data\n",
    "   - Set up endpoints for JWT token operations\n",
    "   - Add JWT middleware for token validation\n",
    "\n",
    "3. Custom Permission Classes (1 hour)\n",
    "   - Create a BasePermission subclass for object ownership\n",
    "   - Implement has_permission and has_object_permission methods\n",
    "   - Create role-based permission classes (Admin, Staff, Regular User)\n",
    "   - Implement field-level permissions that restrict access to specific model fields\n",
    "   - Create a permission class that checks request IP addresses\n",
    "\n",
    "4. Permission Combinations (45 minutes)\n",
    "   - Combine permission classes using logical operators (AND, OR, NOT)\n",
    "   - Implement a custom permission that varies based on request method\n",
    "   - Create a permission that checks both user roles and object attributes\n",
    "   - Add custom permission denial messages\n",
    "   - Implement a permission class that uses Django's ContentType framework\n",
    "\n",
    "5. Testing Authentication and Permissions (30 minutes)\n",
    "   - Write tests for each authentication method\n",
    "   - Create test cases for permission classes\n",
    "   - Test permission combinations\n",
    "   - Implement test fixtures for different user roles\n",
    "   - Test authentication failure scenarios\n",
    "\n",
    "Bonus Challenge: Create a custom middleware that logs all authentication attempts and permission checks, with detailed information about why a permission was granted or denied."
   ]
  },
  {
   "cell_type": "markdown",
   "metadata": {},
   "source": [
    "# Day 5: Advanced Testing and API Versioning\n",
    "\n",
    "Task: Implement comprehensive testing for your DRF API and set up API versioning.\n",
    "\n",
    "1. *Advanced API Testing (1.5 hours)*\n",
    "   - Set up APITestCase for your existing endpoints\n",
    "   - Create test fixtures with complex data relationships\n",
    "   - Implement tests for filtering, sorting, and pagination\n",
    "   - Write tests for authentication and permissions\n",
    "   - Test complex API scenarios with combined parameters[1][4]\n",
    "\n",
    "2. *Custom Test Utilities (45 minutes)*\n",
    "   - Create a custom APIRequestFactory for specialized test requests\n",
    "   - Implement test mixins for common testing patterns\n",
    "   - Set up URLPatternsTestCase for isolated URL testing[6]\n",
    "   - Create helper methods for authentication in tests\n",
    "   - Implement response data validation utilities[6]\n",
    "\n",
    "3. *API Versioning Implementation (1 hour)*\n",
    "   - Choose and implement a versioning strategy (URL, namespace, or header-based)\n",
    "   - Set up URL path versioning with separate endpoints for v1 and v2\n",
    "   - Configure versioning settings in REST_FRAMEWORK settings\n",
    "   - Create version-specific serializers\n",
    "   - Implement a SerializerClassMixin for dynamic serializer selection[3][5]\n",
    "\n",
    "4. *Version-Specific Features (45 minutes)*\n",
    "   - Create a v1 API with basic functionality\n",
    "   - Implement enhanced features in v2 while maintaining backward compatibility\n",
    "   - Set up version negotiation and default version fallback\n",
    "   - Add version-specific documentation\n",
    "   - Implement deprecation warnings for outdated API versions[3]\n",
    "\n",
    "Bonus Challenge: Create a test suite that automatically tests all endpoints across multiple API versions, ensuring backward compatibility is maintained when new features are added.\n"
   ]
  },
  {
   "cell_type": "markdown",
   "metadata": {},
   "source": []
  }
 ],
 "metadata": {
  "language_info": {
   "name": "python"
  }
 },
 "nbformat": 4,
 "nbformat_minor": 2
}
