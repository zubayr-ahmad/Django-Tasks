{
 "cells": [
  {
   "cell_type": "markdown",
   "metadata": {},
   "source": [
    "# Task 01\n",
    "Set up a Django REST Framework project from scratch and create your first API endpoint.\n",
    "\n",
    "1. Install Django and Django REST Framework\n",
    "2. Create a new Django project and app\n",
    "3. Configure DRF in settings.py\n",
    "4. Create a simple model (e.g., Book with title, author, published_date)\n",
    "5. Implement a basic ModelSerializer\n",
    "6. Create a function-based view that returns all books\n",
    "7. Configure URLs and test the endpoint using the browsable API"
   ]
  },
  {
   "cell_type": "markdown",
   "metadata": {},
   "source": [
    "# Task 02\n",
    "2. Advanced Serialization (1.5 hours)\n",
    "   - Create a related model (e.g., Author with name, bio, date_of_birth)\n",
    "   - Establish a ForeignKey relationship from Book to Author\n",
    "   - Implement nested serialization with different depth levels\n",
    "   - Create a custom serializer method field that returns computed data\n",
    "   - Implement serializer validation with validate_field() and validate() methods\n",
    "\n"
   ]
  },
  {
   "cell_type": "markdown",
   "metadata": {},
   "source": [
    "# Task 03\n",
    "3. Serializer Relationships (1 hour)\n",
    "   - Implement HyperlinkedModelSerializer for navigable APIs\n",
    "   - Add StringRelatedField and PrimaryKeyRelatedField examples\n",
    "   - Create a custom relational field\n",
    "   - Handle many-to-many relationships (add a Genre model related to Book)"
   ]
  }
 ],
 "metadata": {
  "language_info": {
   "name": "python"
  }
 },
 "nbformat": 4,
 "nbformat_minor": 2
}
