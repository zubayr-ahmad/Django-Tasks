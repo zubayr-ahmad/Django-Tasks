{
 "cells": [
  {
   "cell_type": "markdown",
   "metadata": {},
   "source": [
    "# Task 01\n",
    "Set up a Django REST Framework project from scratch and create your first API endpoint.\n",
    "\n",
    "1. Install Django and Django REST Framework\n",
    "2. Create a new Django project and app\n",
    "3. Configure DRF in settings.py\n",
    "4. Create a simple model (e.g., Book with title, author, published_date)\n",
    "5. Implement a basic ModelSerializer\n",
    "6. Create a function-based view that returns all books\n",
    "7. Configure URLs and test the endpoint using the browsable API"
   ]
  },
  {
   "cell_type": "markdown",
   "metadata": {},
   "source": []
  }
 ],
 "metadata": {
  "language_info": {
   "name": "python"
  }
 },
 "nbformat": 4,
 "nbformat_minor": 2
}
